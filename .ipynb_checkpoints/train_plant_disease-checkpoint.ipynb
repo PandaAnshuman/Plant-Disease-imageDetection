{
 "cells": [
  {
   "cell_type": "code",
   "execution_count": 2,
   "id": "a04af284-f71d-42c6-8340-5a9bc49ce8fe",
   "metadata": {},
   "outputs": [],
   "source": [
    "#Importing Libraries"
   ]
  },
  {
   "cell_type": "code",
   "execution_count": 3,
   "id": "44a1a70a-8c89-41b3-aedd-a36d95ac3040",
   "metadata": {},
   "outputs": [],
   "source": [
    "import tensorflow as tf"
   ]
  },
  {
   "cell_type": "code",
   "execution_count": 4,
   "id": "a215ef32-2e7a-4ede-9deb-8b205e477b7b",
   "metadata": {},
   "outputs": [],
   "source": [
    "import matplotlib.pyplot as plt\n",
    "import pandas as pd\n",
    "import seaborn as sns"
   ]
  },
  {
   "cell_type": "code",
   "execution_count": 5,
   "id": "5395de92-b0ff-4e66-9415-575163b2d4d1",
   "metadata": {},
   "outputs": [],
   "source": [
    "#Preprocessing\n",
    "#Training Image preprocessing"
   ]
  },
  {
   "cell_type": "code",
   "execution_count": 6,
   "id": "3208634b-d2e2-4c6b-8834-148ee6c5b86c",
   "metadata": {},
   "outputs": [
    {
     "ename": "SyntaxError",
     "evalue": "invalid syntax (3615019879.py, line 2)",
     "output_type": "error",
     "traceback": [
      "\u001b[1;36m  Cell \u001b[1;32mIn[6], line 2\u001b[1;36m\u001b[0m\n\u001b[1;33m    1. Choose Small Learning Rate defauot is 0.001 we are taking 0.0001\u001b[0m\n\u001b[1;37m       ^\u001b[0m\n\u001b[1;31mSyntaxError\u001b[0m\u001b[1;31m:\u001b[0m invalid syntax\n"
     ]
    }
   ],
   "source": [
    "### Avoid Overshoting\n",
    "1. Choose Small Learning Rate defauot is 0.001 we are taking 0.0001\n",
    "2. There may be Chance of Underfitting so increase number of nueron\n",
    "3. Add more Convolution Layer to ectract more features from Image there may be possobility that the model unable to capture the features so feed with more features"
   ]
  },
  {
   "cell_type": "code",
   "execution_count": 7,
   "id": "99fbceaa-f179-439a-ba79-4a9351e9f1c2",
   "metadata": {},
   "outputs": [
    {
     "name": "stdout",
     "output_type": "stream",
     "text": [
      "Found 70295 files belonging to 38 classes.\n"
     ]
    }
   ],
   "source": [
    "training_set=tf.keras.utils.image_dataset_from_directory(\n",
    "    'train',\n",
    "    labels=\"inferred\",\n",
    "    label_mode=\"categorical\",\n",
    "    class_names=None,\n",
    "    color_mode=\"rgb\",\n",
    "    batch_size=32,\n",
    "    image_size=(128, 128),\n",
    "    shuffle=True,\n",
    "    seed=None,\n",
    "    validation_split=None,\n",
    "    subset=None,\n",
    "    interpolation=\"bilinear\",\n",
    "    follow_links=False,\n",
    "    crop_to_aspect_ratio=False,\n",
    "    data_format=None,\n",
    "    \n",
    ")"
   ]
  },
  {
   "cell_type": "code",
   "execution_count": 8,
   "id": "90771b84-470b-4c2b-b444-7d5258d29b5b",
   "metadata": {},
   "outputs": [],
   "source": [
    "### Validation Image Preprocessing"
   ]
  },
  {
   "cell_type": "code",
   "execution_count": 9,
   "id": "4b683aaa-6b6e-427e-9b50-0275e1716d24",
   "metadata": {},
   "outputs": [
    {
     "name": "stdout",
     "output_type": "stream",
     "text": [
      "Found 17572 files belonging to 38 classes.\n"
     ]
    }
   ],
   "source": [
    "validation_set=tf.keras.utils.image_dataset_from_directory(\n",
    "    'valid',\n",
    "    labels=\"inferred\",\n",
    "    label_mode=\"categorical\",\n",
    "    class_names=None,\n",
    "    color_mode=\"rgb\",\n",
    "    batch_size=32,\n",
    "    image_size=(128, 128),\n",
    "    shuffle=True,\n",
    "    seed=None,\n",
    "    validation_split=None,\n",
    "    subset=None,\n",
    "    interpolation=\"bilinear\",\n",
    "    follow_links=False,\n",
    "    crop_to_aspect_ratio=False,\n",
    "    data_format=None,\n",
    "    \n",
    ")"
   ]
  },
  {
   "cell_type": "code",
   "execution_count": 10,
   "id": "f57ed1b2-8d18-4cef-be54-f6208339d98c",
   "metadata": {},
   "outputs": [
    {
     "data": {
      "text/plain": [
       "<_PrefetchDataset element_spec=(TensorSpec(shape=(None, 128, 128, 3), dtype=tf.float32, name=None), TensorSpec(shape=(None, 38), dtype=tf.float32, name=None))>"
      ]
     },
     "execution_count": 10,
     "metadata": {},
     "output_type": "execute_result"
    }
   ],
   "source": [
    "training_set"
   ]
  },
  {
   "cell_type": "code",
   "execution_count": 11,
   "id": "29ac237b-c1e6-4907-a37d-0194dc1974d7",
   "metadata": {},
   "outputs": [
    {
     "name": "stdout",
     "output_type": "stream",
     "text": [
      "tf.Tensor(\n",
      "[[[[200.75 183.75 176.75]\n",
      "   [193.75 176.75 169.75]\n",
      "   [195.25 178.25 171.25]\n",
      "   ...\n",
      "   [194.75 177.75 170.75]\n",
      "   [195.   178.   171.  ]\n",
      "   [194.   177.   170.  ]]\n",
      "\n",
      "  [[200.5  183.5  176.5 ]\n",
      "   [196.75 179.75 172.75]\n",
      "   [194.25 177.25 170.25]\n",
      "   ...\n",
      "   [198.25 181.25 174.25]\n",
      "   [193.5  176.5  169.5 ]\n",
      "   [196.25 179.25 172.25]]\n",
      "\n",
      "  [[194.5  177.5  170.5 ]\n",
      "   [197.25 180.25 173.25]\n",
      "   [185.25 168.25 161.25]\n",
      "   ...\n",
      "   [200.75 183.75 176.75]\n",
      "   [199.25 182.25 175.25]\n",
      "   [197.   180.   173.  ]]\n",
      "\n",
      "  ...\n",
      "\n",
      "  [[208.75 195.75 186.75]\n",
      "   [212.25 199.25 191.25]\n",
      "   [210.5  197.5  189.5 ]\n",
      "   ...\n",
      "   [192.75 179.75 173.75]\n",
      "   [199.5  186.5  180.5 ]\n",
      "   [196.5  183.5  177.5 ]]\n",
      "\n",
      "  [[216.75 203.75 194.75]\n",
      "   [208.5  195.5  187.5 ]\n",
      "   [210.5  197.5  189.5 ]\n",
      "   ...\n",
      "   [195.25 182.25 176.25]\n",
      "   [196.5  183.5  177.5 ]\n",
      "   [201.   188.   182.  ]]\n",
      "\n",
      "  [[199.   186.   177.  ]\n",
      "   [201.   188.   180.  ]\n",
      "   [211.25 198.25 190.25]\n",
      "   ...\n",
      "   [207.   194.   188.  ]\n",
      "   [202.75 189.75 183.75]\n",
      "   [201.5  188.5  182.5 ]]]\n",
      "\n",
      "\n",
      " [[[207.25 200.25 208.25]\n",
      "   [192.25 185.25 193.25]\n",
      "   [196.25 189.25 197.25]\n",
      "   ...\n",
      "   [175.75 164.75 172.75]\n",
      "   [151.25 140.25 148.25]\n",
      "   [169.5  158.5  166.5 ]]\n",
      "\n",
      "  [[216.   209.   217.  ]\n",
      "   [214.5  207.5  215.5 ]\n",
      "   [203.5  196.5  204.5 ]\n",
      "   ...\n",
      "   [159.25 148.25 156.25]\n",
      "   [159.25 148.25 156.25]\n",
      "   [178.   167.   175.  ]]\n",
      "\n",
      "  [[208.   201.   209.  ]\n",
      "   [193.25 186.25 194.25]\n",
      "   [200.   193.   201.  ]\n",
      "   ...\n",
      "   [165.5  154.5  162.5 ]\n",
      "   [183.5  172.5  180.5 ]\n",
      "   [173.5  162.5  170.5 ]]\n",
      "\n",
      "  ...\n",
      "\n",
      "  [[181.25 168.25 175.25]\n",
      "   [175.75 162.75 169.75]\n",
      "   [174.25 161.25 168.25]\n",
      "   ...\n",
      "   [160.75 148.75 152.75]\n",
      "   [146.25 134.25 138.25]\n",
      "   [152.5  140.5  144.5 ]]\n",
      "\n",
      "  [[177.25 164.25 171.25]\n",
      "   [174.   161.   168.  ]\n",
      "   [178.   165.   172.  ]\n",
      "   ...\n",
      "   [150.75 138.75 142.75]\n",
      "   [135.75 123.75 127.75]\n",
      "   [148.   136.   140.  ]]\n",
      "\n",
      "  [[177.25 164.25 171.25]\n",
      "   [172.75 159.75 166.75]\n",
      "   [178.75 165.75 172.75]\n",
      "   ...\n",
      "   [144.75 132.75 136.75]\n",
      "   [144.75 132.75 136.75]\n",
      "   [154.5  142.5  146.5 ]]]\n",
      "\n",
      "\n",
      " [[[106.5  102.5  103.5 ]\n",
      "   [108.25 104.25 105.25]\n",
      "   [107.75 103.75 104.75]\n",
      "   ...\n",
      "   [112.5  112.5  112.5 ]\n",
      "   [114.25 114.25 114.25]\n",
      "   [117.5  117.5  117.5 ]]\n",
      "\n",
      "  [[113.75 109.75 110.75]\n",
      "   [116.75 112.75 113.75]\n",
      "   [110.75 106.75 107.75]\n",
      "   ...\n",
      "   [114.25 114.25 114.25]\n",
      "   [115.5  115.5  115.5 ]\n",
      "   [117.   117.   117.  ]]\n",
      "\n",
      "  [[102.75  98.75  99.75]\n",
      "   [103.75  99.75 100.75]\n",
      "   [100.75  96.75  97.75]\n",
      "   ...\n",
      "   [116.25 116.25 116.25]\n",
      "   [116.5  116.5  116.5 ]\n",
      "   [116.   116.   116.  ]]\n",
      "\n",
      "  ...\n",
      "\n",
      "  [[ 87.    88.    83.  ]\n",
      "   [ 90.    91.    86.  ]\n",
      "   [ 87.    88.    83.  ]\n",
      "   ...\n",
      "   [120.25 125.25 118.25]\n",
      "   [118.   123.   116.  ]\n",
      "   [116.75 121.75 114.75]]\n",
      "\n",
      "  [[ 88.25  89.25  84.25]\n",
      "   [ 94.    95.    90.  ]\n",
      "   [ 94.    95.    90.  ]\n",
      "   ...\n",
      "   [122.25 127.25 120.25]\n",
      "   [121.25 126.25 119.25]\n",
      "   [120.   125.   118.  ]]\n",
      "\n",
      "  [[ 88.    89.    84.  ]\n",
      "   [ 92.75  93.75  88.75]\n",
      "   [ 92.    93.    88.  ]\n",
      "   ...\n",
      "   [123.75 128.75 121.75]\n",
      "   [123.   128.   121.  ]\n",
      "   [122.75 127.75 120.75]]]\n",
      "\n",
      "\n",
      " ...\n",
      "\n",
      "\n",
      " [[[134.75 122.75 136.75]\n",
      "   [156.5  144.5  158.5 ]\n",
      "   [136.5  124.5  138.5 ]\n",
      "   ...\n",
      "   [123.25  99.25 112.25]\n",
      "   [139.5  115.5  128.5 ]\n",
      "   [141.75 117.75 130.75]]\n",
      "\n",
      "  [[175.25 163.25 177.25]\n",
      "   [139.5  127.5  141.5 ]\n",
      "   [159.75 147.75 161.75]\n",
      "   ...\n",
      "   [134.   110.   123.  ]\n",
      "   [122.    98.   111.  ]\n",
      "   [140.25 116.25 129.25]]\n",
      "\n",
      "  [[135.25 123.25 137.25]\n",
      "   [151.   139.   153.  ]\n",
      "   [147.25 135.25 149.25]\n",
      "   ...\n",
      "   [128.75 104.75 117.75]\n",
      "   [132.5  108.5  121.5 ]\n",
      "   [132.25 108.25 121.25]]\n",
      "\n",
      "  ...\n",
      "\n",
      "  [[194.   186.   197.  ]\n",
      "   [196.   188.   199.  ]\n",
      "   [195.25 187.25 198.25]\n",
      "   ...\n",
      "   [165.   153.   167.  ]\n",
      "   [162.25 150.25 164.25]\n",
      "   [163.25 151.25 165.25]]\n",
      "\n",
      "  [[192.5  184.5  195.5 ]\n",
      "   [200.5  192.5  203.5 ]\n",
      "   [199.25 191.25 202.25]\n",
      "   ...\n",
      "   [167.25 155.25 169.25]\n",
      "   [167.   155.   169.  ]\n",
      "   [168.   156.   170.  ]]\n",
      "\n",
      "  [[199.   191.   202.  ]\n",
      "   [198.5  190.5  201.5 ]\n",
      "   [192.75 184.75 195.75]\n",
      "   ...\n",
      "   [167.25 155.25 169.25]\n",
      "   [166.75 154.75 168.75]\n",
      "   [166.5  154.5  168.5 ]]]\n",
      "\n",
      "\n",
      " [[[125.   128.   137.  ]\n",
      "   [122.25 125.25 134.25]\n",
      "   [119.5  122.5  131.5 ]\n",
      "   ...\n",
      "   [144.25 148.25 157.25]\n",
      "   [139.5  143.5  152.5 ]\n",
      "   [137.5  141.5  150.5 ]]\n",
      "\n",
      "  [[125.   128.   137.  ]\n",
      "   [128.   131.   140.  ]\n",
      "   [131.5  134.5  143.5 ]\n",
      "   ...\n",
      "   [143.25 147.25 156.25]\n",
      "   [150.25 154.25 163.25]\n",
      "   [140.   144.   153.  ]]\n",
      "\n",
      "  [[122.   125.   134.  ]\n",
      "   [124.   127.   136.  ]\n",
      "   [124.25 127.25 136.25]\n",
      "   ...\n",
      "   [137.   141.   150.  ]\n",
      "   [143.5  147.5  156.5 ]\n",
      "   [139.   143.   152.  ]]\n",
      "\n",
      "  ...\n",
      "\n",
      "  [[109.5   98.5  104.5 ]\n",
      "   [107.5   96.5  102.5 ]\n",
      "   [109.75  98.75 104.75]\n",
      "   ...\n",
      "   [120.5  111.5  116.5 ]\n",
      "   [127.   118.   123.  ]\n",
      "   [127.75 118.75 123.75]]\n",
      "\n",
      "  [[112.   101.   107.  ]\n",
      "   [110.75  99.75 105.75]\n",
      "   [121.25 110.25 116.25]\n",
      "   ...\n",
      "   [129.   120.   125.  ]\n",
      "   [127.25 118.25 123.25]\n",
      "   [129.75 120.75 125.75]]\n",
      "\n",
      "  [[115.5  104.5  110.5 ]\n",
      "   [111.   100.   106.  ]\n",
      "   [114.75 103.75 109.75]\n",
      "   ...\n",
      "   [120.75 111.75 116.75]\n",
      "   [125.75 116.75 121.75]\n",
      "   [128.   119.   124.  ]]]\n",
      "\n",
      "\n",
      " [[[  0.     0.     0.  ]\n",
      "   [  0.     0.     0.  ]\n",
      "   [  0.     0.     0.  ]\n",
      "   ...\n",
      "   [  0.     0.     0.  ]\n",
      "   [  0.     0.     0.  ]\n",
      "   [  0.     0.     0.  ]]\n",
      "\n",
      "  [[  0.     0.     0.  ]\n",
      "   [  0.     0.     0.  ]\n",
      "   [  0.     0.     0.  ]\n",
      "   ...\n",
      "   [  0.     0.     0.  ]\n",
      "   [  0.     0.     0.  ]\n",
      "   [  0.     0.     0.  ]]\n",
      "\n",
      "  [[  0.     0.     0.  ]\n",
      "   [  0.     0.     0.  ]\n",
      "   [  0.     0.     0.  ]\n",
      "   ...\n",
      "   [  0.     0.     0.  ]\n",
      "   [  0.     0.     0.  ]\n",
      "   [  0.     0.     0.  ]]\n",
      "\n",
      "  ...\n",
      "\n",
      "  [[  0.     0.     0.  ]\n",
      "   [  0.     0.     0.  ]\n",
      "   [  0.     0.     0.  ]\n",
      "   ...\n",
      "   [  0.     0.     0.  ]\n",
      "   [  0.     0.     0.  ]\n",
      "   [  0.     0.     0.  ]]\n",
      "\n",
      "  [[  0.     0.     0.  ]\n",
      "   [  0.     0.     0.  ]\n",
      "   [  0.     0.     0.  ]\n",
      "   ...\n",
      "   [  0.     0.     0.  ]\n",
      "   [  0.     0.     0.  ]\n",
      "   [  0.     0.     0.  ]]\n",
      "\n",
      "  [[  0.     0.     0.  ]\n",
      "   [  0.     0.     0.  ]\n",
      "   [  0.     0.     0.  ]\n",
      "   ...\n",
      "   [  0.     0.     0.  ]\n",
      "   [  0.     0.     0.  ]\n",
      "   [  0.     0.     0.  ]]]], shape=(32, 128, 128, 3), dtype=float32) (32, 128, 128, 3)\n",
      "tf.Tensor(\n",
      "[[0. 0. 0. ... 0. 0. 0.]\n",
      " [0. 0. 0. ... 0. 0. 0.]\n",
      " [0. 0. 0. ... 1. 0. 0.]\n",
      " ...\n",
      " [0. 0. 0. ... 0. 0. 0.]\n",
      " [0. 0. 0. ... 0. 0. 0.]\n",
      " [0. 0. 0. ... 0. 0. 0.]], shape=(32, 38), dtype=float32) (32, 38)\n"
     ]
    }
   ],
   "source": [
    "for x,y in training_set:\n",
    "    print(x,x.shape)\n",
    "    print(y,y.shape)\n",
    "    break\n",
    "    "
   ]
  },
  {
   "cell_type": "code",
   "execution_count": 12,
   "id": "cf532fc8-20a9-459f-b06d-2d3351d074b9",
   "metadata": {},
   "outputs": [],
   "source": [
    "from tensorflow.keras.layers import Dense,Conv2D,MaxPool2D,Flatten,Dropout\n",
    "from tensorflow.keras.models import Sequential"
   ]
  },
  {
   "cell_type": "code",
   "execution_count": 13,
   "id": "2aca6d66-164b-4dab-9587-a7195c45f8fc",
   "metadata": {},
   "outputs": [],
   "source": [
    "model =Sequential()"
   ]
  },
  {
   "cell_type": "code",
   "execution_count": 14,
   "id": "0b7c4669-5293-4997-841d-14d9f3e4875c",
   "metadata": {},
   "outputs": [],
   "source": [
    "## Building Convolution Layers"
   ]
  },
  {
   "cell_type": "code",
   "execution_count": 15,
   "id": "d60c0116-220b-4246-a706-b57240ca048d",
   "metadata": {},
   "outputs": [
    {
     "name": "stderr",
     "output_type": "stream",
     "text": [
      "C:\\Users\\anshu\\AppData\\Local\\Programs\\Python\\Python312\\Lib\\site-packages\\keras\\src\\layers\\convolutional\\base_conv.py:99: UserWarning: Do not pass an `input_shape`/`input_dim` argument to a layer. When using Sequential models, prefer using an `Input(shape)` object as the first layer in the model instead.\n",
      "  super().__init__(\n"
     ]
    }
   ],
   "source": [
    "model.add(Conv2D(filters=32,kernel_size=3,padding=\"same\" ,activation=\"relu\" , input_shape=[128,128,3]))\n",
    "model.add(Conv2D(filters=32,kernel_size=3 ,activation=\"relu\"))\n",
    "model.add(MaxPool2D(pool_size=2,strides=2))"
   ]
  },
  {
   "cell_type": "code",
   "execution_count": 16,
   "id": "03955a49-785c-46df-82e4-ce6818c35a72",
   "metadata": {},
   "outputs": [],
   "source": [
    "model.add(Conv2D(filters=64,kernel_size=3,padding=\"same\" ,activation=\"relu\" ))\n",
    "model.add(Conv2D(filters=64,kernel_size=3 ,activation=\"relu\"))\n",
    "model.add(MaxPool2D(pool_size=2,strides=2))"
   ]
  },
  {
   "cell_type": "code",
   "execution_count": 17,
   "id": "d501baa0-e1f8-4787-bce5-b922437a9265",
   "metadata": {},
   "outputs": [],
   "source": [
    "model.add(Conv2D(filters=128,kernel_size=3,padding=\"same\" ,activation=\"relu\" ))\n",
    "model.add(Conv2D(filters=128,kernel_size=3 ,activation=\"relu\"))\n",
    "model.add(MaxPool2D(pool_size=2,strides=2))"
   ]
  },
  {
   "cell_type": "code",
   "execution_count": 18,
   "id": "cccb90d6-23a9-4227-92b7-4e3b44655cd5",
   "metadata": {},
   "outputs": [],
   "source": [
    "model.add(Conv2D(filters=256,kernel_size=3,padding=\"same\" ,activation=\"relu\" ))\n",
    "model.add(Conv2D(filters=256,kernel_size=3,activation=\"relu\"))\n",
    "model.add(MaxPool2D(pool_size=2,strides=2))"
   ]
  },
  {
   "cell_type": "code",
   "execution_count": 19,
   "id": "8c4d5d90-816b-47d3-bd99-65c44c93405d",
   "metadata": {},
   "outputs": [],
   "source": [
    "model.add(Conv2D(filters=512,kernel_size=3,padding=\"same\" ,activation=\"relu\" ))\n",
    "model.add(Conv2D(filters=512,kernel_size=3,activation=\"relu\"))\n",
    "model.add(MaxPool2D(pool_size=2,strides=2))"
   ]
  },
  {
   "cell_type": "code",
   "execution_count": 20,
   "id": "943d2199-b050-47b7-8dd3-d7605f96ceb3",
   "metadata": {},
   "outputs": [],
   "source": [
    "model.add(Dropout(0.25))"
   ]
  },
  {
   "cell_type": "code",
   "execution_count": 21,
   "id": "6109ca4f-fa83-4762-a984-bb267fbda8d6",
   "metadata": {},
   "outputs": [],
   "source": [
    "model.add(Flatten())"
   ]
  },
  {
   "cell_type": "code",
   "execution_count": 22,
   "id": "d006bcf5-0468-4b51-a2e6-aa9a7f395ff0",
   "metadata": {},
   "outputs": [],
   "source": [
    "model.add(Dense(units=1500,activation='relu'))"
   ]
  },
  {
   "cell_type": "code",
   "execution_count": 23,
   "id": "80730437-7cbf-4178-bf51-9391e6103030",
   "metadata": {},
   "outputs": [],
   "source": [
    "model.add(Dropout(0.25))"
   ]
  },
  {
   "cell_type": "code",
   "execution_count": 24,
   "id": "cecddf43-7389-4f79-956f-78bd2ca69847",
   "metadata": {},
   "outputs": [],
   "source": [
    "##OUTPUT LAYER"
   ]
  },
  {
   "cell_type": "code",
   "execution_count": 25,
   "id": "4faae7d3-fb8d-48a1-95df-2ebd1b1a2556",
   "metadata": {},
   "outputs": [],
   "source": [
    "model.add(Dense(units=38 , activation='softmax'))"
   ]
  },
  {
   "cell_type": "code",
   "execution_count": 26,
   "id": "8da2f06e-9aa0-40b1-9768-18e10f41a13b",
   "metadata": {},
   "outputs": [],
   "source": [
    "## Compiling Model"
   ]
  },
  {
   "cell_type": "code",
   "execution_count": 27,
   "id": "87396b4d-f154-40f7-9477-6d20f7ab606d",
   "metadata": {},
   "outputs": [],
   "source": [
    "model.compile(optimizer=tf.keras.optimizers.Adam(\n",
    "    learning_rate=0.0001), loss='categorical_crossentropy',metrics=['accuracy'])"
   ]
  },
  {
   "cell_type": "code",
   "execution_count": 28,
   "id": "9f464479-c19a-4d7c-bc6a-84cd1bcae863",
   "metadata": {},
   "outputs": [
    {
     "data": {
      "text/plain": [
       "5"
      ]
     },
     "execution_count": 28,
     "metadata": {},
     "output_type": "execute_result"
    }
   ],
   "source": [
    "5"
   ]
  },
  {
   "cell_type": "code",
   "execution_count": 29,
   "id": "b713bb0b-b3e9-4f51-b1fa-14ad5d34db0f",
   "metadata": {},
   "outputs": [],
   "source": [
    "### Model Training"
   ]
  },
  {
   "cell_type": "code",
   "execution_count": 30,
   "id": "2781c35b-4566-4140-bf7b-30a50b9a8cc7",
   "metadata": {},
   "outputs": [
    {
     "name": "stdout",
     "output_type": "stream",
     "text": [
      "Epoch 1/10\n",
      "\u001b[1m2197/2197\u001b[0m \u001b[32m━━━━━━━━━━━━━━━━━━━━\u001b[0m\u001b[37m\u001b[0m \u001b[1m1315s\u001b[0m 597ms/step - accuracy: 0.4326 - loss: 2.0008 - val_accuracy: 0.8379 - val_loss: 0.5181\n",
      "Epoch 2/10\n",
      "\u001b[1m2197/2197\u001b[0m \u001b[32m━━━━━━━━━━━━━━━━━━━━\u001b[0m\u001b[37m\u001b[0m \u001b[1m1265s\u001b[0m 576ms/step - accuracy: 0.8522 - loss: 0.4630 - val_accuracy: 0.9067 - val_loss: 0.2868\n",
      "Epoch 3/10\n",
      "\u001b[1m2197/2197\u001b[0m \u001b[32m━━━━━━━━━━━━━━━━━━━━\u001b[0m\u001b[37m\u001b[0m \u001b[1m1266s\u001b[0m 576ms/step - accuracy: 0.9140 - loss: 0.2676 - val_accuracy: 0.9441 - val_loss: 0.1757\n",
      "Epoch 4/10\n",
      "\u001b[1m2197/2197\u001b[0m \u001b[32m━━━━━━━━━━━━━━━━━━━━\u001b[0m\u001b[37m\u001b[0m \u001b[1m1256s\u001b[0m 571ms/step - accuracy: 0.9395 - loss: 0.1851 - val_accuracy: 0.9376 - val_loss: 0.1956\n",
      "Epoch 5/10\n",
      "\u001b[1m2197/2197\u001b[0m \u001b[32m━━━━━━━━━━━━━━━━━━━━\u001b[0m\u001b[37m\u001b[0m \u001b[1m1267s\u001b[0m 577ms/step - accuracy: 0.9553 - loss: 0.1338 - val_accuracy: 0.9596 - val_loss: 0.1312\n",
      "Epoch 6/10\n",
      "\u001b[1m2197/2197\u001b[0m \u001b[32m━━━━━━━━━━━━━━━━━━━━\u001b[0m\u001b[37m\u001b[0m \u001b[1m1269s\u001b[0m 578ms/step - accuracy: 0.9647 - loss: 0.1047 - val_accuracy: 0.9660 - val_loss: 0.1065\n",
      "Epoch 7/10\n",
      "\u001b[1m2197/2197\u001b[0m \u001b[32m━━━━━━━━━━━━━━━━━━━━\u001b[0m\u001b[37m\u001b[0m \u001b[1m1270s\u001b[0m 578ms/step - accuracy: 0.9724 - loss: 0.0849 - val_accuracy: 0.9616 - val_loss: 0.1220\n",
      "Epoch 8/10\n",
      "\u001b[1m2197/2197\u001b[0m \u001b[32m━━━━━━━━━━━━━━━━━━━━\u001b[0m\u001b[37m\u001b[0m \u001b[1m1272s\u001b[0m 579ms/step - accuracy: 0.9771 - loss: 0.0704 - val_accuracy: 0.9642 - val_loss: 0.1166\n",
      "Epoch 9/10\n",
      "\u001b[1m2197/2197\u001b[0m \u001b[32m━━━━━━━━━━━━━━━━━━━━\u001b[0m\u001b[37m\u001b[0m \u001b[1m1273s\u001b[0m 579ms/step - accuracy: 0.9787 - loss: 0.0657 - val_accuracy: 0.9638 - val_loss: 0.1261\n",
      "Epoch 10/10\n",
      "\u001b[1m2197/2197\u001b[0m \u001b[32m━━━━━━━━━━━━━━━━━━━━\u001b[0m\u001b[37m\u001b[0m \u001b[1m1299s\u001b[0m 591ms/step - accuracy: 0.9821 - loss: 0.0544 - val_accuracy: 0.9664 - val_loss: 0.1156\n"
     ]
    }
   ],
   "source": [
    "training_history=model.fit(x=training_set,validation_data=validation_set,epochs=10)"
   ]
  },
  {
   "cell_type": "code",
   "execution_count": null,
   "id": "27fc7c18-fa77-4d3e-9abc-9908d87afb58",
   "metadata": {},
   "outputs": [],
   "source": []
  },
  {
   "cell_type": "code",
   "execution_count": null,
   "id": "98f854af-4614-4f19-a425-2f1111fe7fdf",
   "metadata": {},
   "outputs": [],
   "source": []
  }
 ],
 "metadata": {
  "kernelspec": {
   "display_name": "Python 3 (ipykernel)",
   "language": "python",
   "name": "python3"
  },
  "language_info": {
   "codemirror_mode": {
    "name": "ipython",
    "version": 3
   },
   "file_extension": ".py",
   "mimetype": "text/x-python",
   "name": "python",
   "nbconvert_exporter": "python",
   "pygments_lexer": "ipython3",
   "version": "3.12.2"
  }
 },
 "nbformat": 4,
 "nbformat_minor": 5
}
